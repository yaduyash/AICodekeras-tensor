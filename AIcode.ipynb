{
 "cells": [
  {
   "cell_type": "code",
   "execution_count": 32,
   "metadata": {},
   "outputs": [],
   "source": [
    "#KerasFundamentals"
   ]
  },
  {
   "cell_type": "code",
   "execution_count": 2,
   "metadata": {},
   "outputs": [
    {
     "name": "stderr",
     "output_type": "stream",
     "text": [
      "Matplotlib is building the font cache; this may take a moment.\n"
     ]
    },
    {
     "data": {
      "image/png": "[encoded data removed]",
      "text/plain": [
       "<Figure size 432x288 with 1 Axes>"
      ]
     },
     "metadata": {
      "needs_background": "light"
     },
     "output_type": "display_data"
    }
   ],
   "source": [
    "import pandas as pd\n",
    "import numpy as np\n",
    "import matplotlib \n",
    "from matplotlib import pyplot as plt\n",
    "def plot_data(data, labels):\n",
    "    \"\"\"\n",
    "    argument:\n",
    "    data: np.array containing the input value\n",
    "    labels: 1d numpy array containing the expected label\n",
    "    \"\"\"\n",
    "    positives = data[labels == 1, :]\n",
    "    negatives = data[labels == 0, :]\n",
    "    plt.scatter(positives[:, 0], positives[:, 1], \n",
    "                       color='red', marker='+', s=200)\n",
    "    plt.scatter(negatives[:, 0], negatives[:, 1], \n",
    "                       color='blue', marker='_', s=200)\n",
    "\n",
    "positives = np.array([[1, 0], [0, 1]])\n",
    "negatives = np.array([[0, 0], [1, 1]])\n",
    "\n",
    "data = np.concatenate([positives, negatives])\n",
    "labels = np.array([1, 1, 0, 0])\n",
    "plot_data(data, labels)"
   ]
  },
  {
   "cell_type": "code",
   "execution_count": null,
   "metadata": {},
   "outputs": [],
   "source": [
    "# KERAS DATASETS"
   ]
  },
  {
   "cell_type": "code",
   "execution_count": 8,
   "metadata": {},
   "outputs": [
    {
     "name": "stdout",
     "output_type": "stream",
     "text": [
      "Epoch 1/10\n",
      "32/32 [==============================] - 1s 645us/step - loss: 0.7060 - accuracy: 0.5172\n",
      "Epoch 2/10\n",
      "32/32 [==============================] - 0s 640us/step - loss: 0.6866 - accuracy: 0.5375\n",
      "Epoch 3/10\n",
      "32/32 [==============================] - 0s 613us/step - loss: 0.6836 - accuracy: 0.5518\n",
      "Epoch 4/10\n",
      "32/32 [==============================] - 0s 709us/step - loss: 0.6865 - accuracy: 0.5710\n",
      "Epoch 5/10\n",
      "32/32 [==============================] - 0s 613us/step - loss: 0.6745 - accuracy: 0.5716\n",
      "Epoch 6/10\n",
      "32/32 [==============================] - 0s 645us/step - loss: 0.6768 - accuracy: 0.5794\n",
      "Epoch 7/10\n",
      "32/32 [==============================] - 0s 645us/step - loss: 0.6717 - accuracy: 0.5953\n",
      "Epoch 8/10\n",
      "32/32 [==============================] - 0s 613us/step - loss: 0.6561 - accuracy: 0.6104\n",
      "Epoch 9/10\n",
      "32/32 [==============================] - 0s 645us/step - loss: 0.6632 - accuracy: 0.5964\n",
      "Epoch 10/10\n",
      "32/32 [==============================] - 0s 645us/step - loss: 0.6570 - accuracy: 0.6036\n"
     ]
    }
   ],
   "source": [
    "    import numpy as np\n",
    "    import keras\n",
    "    from keras.models import Sequential\n",
    "    from keras.layers import Dense\n",
    "    data = np.random.random((1000,100))\n",
    "    labels = np.random.randint(2,size=(1000,1))\n",
    "    model = Sequential()\n",
    "    model.add(Dense(32, activation='relu', input_dim=100))\n",
    "    model.add(Dense(1, activation='sigmoid'))\n",
    "    model.compile(optimizer='rmsprop',\n",
    "    loss='binary_crossentropy',\n",
    "    metrics=['accuracy'])\n",
    "    model.fit(data,labels,epochs=10,batch_size=32)\n",
    "    predictions = model.predict(data)"
   ]
  },
  {
   "cell_type": "code",
   "execution_count": null,
   "metadata": {},
   "outputs": [],
   "source": [
    "IMPORT DATASET IN KERAS"
   ]
  },
  {
   "cell_type": "code",
   "execution_count": 12,
   "metadata": {},
   "outputs": [],
   "source": [
    " from keras.datasets import boston_housing, mnist, cifar10, imdb\n",
    ">>> (x_train,y_train),(x_test,y_test) = mnist.load_data()\n",
    ">>> (x_train2,y_train2),(x_test2,y_test2) = boston_housing.load_data()\n",
    ">>> (x_train3,y_train3),(x_test3,y_test3) = cifar10.load_data()\n",
    ">>> (x_train4,y_train4),(x_test4,y_test4) = imdb.load_data(num_words=20000)\n",
    " num_classes = 10\n",
    "    "
   ]
  },
  {
   "cell_type": "code",
   "execution_count": 19,
   "metadata": {},
   "outputs": [
    {
     "name": "stdout",
     "output_type": "stream",
     "text": [
      "[[   15   256     4 ...    19   178    32]\n",
      " [  125    68     2 ...    16   145    95]\n",
      " [  645   662     8 ...     7   129   113]\n",
      " ...\n",
      " [  529   443 17793 ...     4  3586     2]\n",
      " [  286  1814    23 ...    12     9    23]\n",
      " [   97    90    35 ...   204   131     9]]\n"
     ]
    }
   ],
   "source": [
    "print(x_train4)"
   ]
  },
  {
   "cell_type": "code",
   "execution_count": null,
   "metadata": {},
   "outputs": [],
   "source": [
    "KERAS PreProcessing"
   ]
  },
  {
   "cell_type": "code",
   "execution_count": 16,
   "metadata": {},
   "outputs": [],
   "source": [
    ">>> from keras.preprocessing import sequence\n",
    ">>> x_train4 = sequence.pad_sequences(x_train4,maxlen=80)\n",
    ">>> x_test4 = sequence.pad_sequences(x_test4,maxlen=80)"
   ]
  },
  {
   "cell_type": "code",
   "execution_count": 17,
   "metadata": {},
   "outputs": [
    {
     "name": "stdout",
     "output_type": "stream",
     "text": [
      "[[   15   256     4 ...    19   178    32]\n",
      " [  125    68     2 ...    16   145    95]\n",
      " [  645   662     8 ...     7   129   113]\n",
      " ...\n",
      " [  529   443 17793 ...     4  3586     2]\n",
      " [  286  1814    23 ...    12     9    23]\n",
      " [   97    90    35 ...   204   131     9]]\n"
     ]
    }
   ],
   "source": [
    "print(x_train4)"
   ]
  },
  {
   "cell_type": "code",
   "execution_count": null,
   "metadata": {},
   "outputs": [],
   "source": [
    "HOT Encoding"
   ]
  },
  {
   "cell_type": "code",
   "execution_count": 20,
   "metadata": {},
   "outputs": [],
   "source": [
    ">>> from keras.utils import to_categorical\n",
    ">>> Y_train = to_categorical(y_train, num_classes)\n",
    ">>> Y_test = to_categorical(y_test, num_classes)\n",
    ">>> Y_train3 = to_categorical(y_train3, num_classes)\n",
    ">>> Y_test3 = to_categorical(y_test3, num_classes)"
   ]
  },
  {
   "cell_type": "code",
   "execution_count": null,
   "metadata": {},
   "outputs": [],
   "source": [
    "Sequential Model"
   ]
  },
  {
   "cell_type": "code",
   "execution_count": 21,
   "metadata": {},
   "outputs": [],
   "source": [
    ">>> from keras.models import Sequential\n",
    ">>> model = Sequential()\n",
    ">>> model2 = Sequential()\n",
    ">>> model3 = Sequential()"
   ]
  },
  {
   "cell_type": "code",
   "execution_count": null,
   "metadata": {},
   "outputs": [],
   "source": [
    "MULTILAYER PERCEPTRON(MULTICLASS CLASSIFICATION)"
   ]
  },
  {
   "cell_type": "code",
   "execution_count": 22,
   "metadata": {},
   "outputs": [],
   "source": [
    ">>> from keras.layers import Dense\n",
    ">>> model.add(Dense(12,\n",
    " input_dim=8,\n",
    " kernel_initializer='uniform',\n",
    " activation='relu'))\n",
    ">>> model.add(Dense(8,kernel_initializer='uniform',activation='relu'))\n",
    ">>> model.add(Dense(1,kernel_initializer='uniform',activation='sigmoid'))"
   ]
  },
  {
   "cell_type": "code",
   "execution_count": null,
   "metadata": {},
   "outputs": [],
   "source": [
    "BINARY CLASSIFICATION"
   ]
  },
  {
   "cell_type": "code",
   "execution_count": 23,
   "metadata": {},
   "outputs": [],
   "source": [
    ">>> from keras.layers import Dropout\n",
    ">>> model.add(Dense(512,activation='relu',input_shape=(784,)))\n",
    ">>> model.add(Dropout(0.2))\n",
    ">>> model.add(Dense(512,activation='relu'))\n",
    ">>> model.add(Dropout(0.2))\n",
    ">>> model.add(Dense(10,activation='softmax'))"
   ]
  },
  {
   "cell_type": "code",
   "execution_count": 29,
   "metadata": {},
   "outputs": [
    {
     "data": {
      "text/plain": [
       "<tensorflow.python.keras.engine.sequential.Sequential at 0x18c89556a00>"
      ]
     },
     "execution_count": 29,
     "metadata": {},
     "output_type": "execute_result"
    }
   ],
   "source": [
    "model"
   ]
  },
  {
   "cell_type": "code",
   "execution_count": null,
   "metadata": {},
   "outputs": [],
   "source": [
    "CNN\n"
   ]
  },
  {
   "cell_type": "code",
   "execution_count": 43,
   "metadata": {
    "scrolled": true
   },
   "outputs": [
    {
     "data": {
      "text/plain": [
       "(<tensorflow.python.keras.engine.sequential.Sequential at 0x18c89556be0>,\n",
       " <tensorflow.python.keras.engine.sequential.Sequential at 0x18c8ac3eb80>)"
      ]
     },
     "execution_count": 43,
     "metadata": {},
     "output_type": "execute_result"
    }
   ],
   "source": [
    "model2 ,model3\n"
   ]
  },
  {
   "cell_type": "code",
   "execution_count": null,
   "metadata": {},
   "outputs": [],
   "source": []
  }
 ],
 "metadata": {
  "kernelspec": {
   "display_name": "Python 3",
   "language": "python",
   "name": "python3"
  },
  "language_info": {
   "codemirror_mode": {
    "name": "ipython",
    "version": 3
   },
   "file_extension": ".py",
   "mimetype": "text/x-python",
   "name": "python",
   "nbconvert_exporter": "python",
   "pygments_lexer": "ipython3",
   "version": "3.8.5"
  }
 },
 "nbformat": 4,
 "nbformat_minor": 4
}
